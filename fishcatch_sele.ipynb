{
 "cells": [
  {
   "cell_type": "code",
   "execution_count": 16,
   "metadata": {},
   "outputs": [
    {
     "name": "stderr",
     "output_type": "stream",
     "text": [
      "C:\\Users\\admin\\AppData\\Local\\Temp\\ipykernel_18280\\2234883726.py:14: DeprecationWarning: executable_path has been deprecated, please pass in a Service object\n",
      "  driver = wd.Chrome(path, options=options)\n"
     ]
    },
    {
     "ename": "KeyboardInterrupt",
     "evalue": "",
     "output_type": "error",
     "traceback": [
      "\u001b[1;31m---------------------------------------------------------------------------\u001b[0m",
      "\u001b[1;31mKeyboardInterrupt\u001b[0m                         Traceback (most recent call last)",
      "\u001b[1;32m~\\AppData\\Local\\Temp\\ipykernel_18280\\2234883726.py\u001b[0m in \u001b[0;36m<module>\u001b[1;34m\u001b[0m\n\u001b[0;32m     56\u001b[0m         \u001b[0mmonth\u001b[0m \u001b[1;33m=\u001b[0m \u001b[0mdriver\u001b[0m\u001b[1;33m.\u001b[0m\u001b[0mfind_element\u001b[0m\u001b[1;33m(\u001b[0m\u001b[0mBy\u001b[0m\u001b[1;33m.\u001b[0m\u001b[0mXPATH\u001b[0m\u001b[1;33m,\u001b[0m \u001b[1;34m'//*[@id=\"fromMm\"]/option['\u001b[0m\u001b[1;33m+\u001b[0m\u001b[0mstr\u001b[0m\u001b[1;33m(\u001b[0m\u001b[0mj\u001b[0m\u001b[1;33m)\u001b[0m\u001b[1;33m+\u001b[0m\u001b[1;34m']'\u001b[0m\u001b[1;33m)\u001b[0m\u001b[1;33m\u001b[0m\u001b[1;33m\u001b[0m\u001b[0m\n\u001b[0;32m     57\u001b[0m         \u001b[0mmonth\u001b[0m\u001b[1;33m.\u001b[0m\u001b[0mclick\u001b[0m\u001b[1;33m(\u001b[0m\u001b[1;33m)\u001b[0m\u001b[1;33m\u001b[0m\u001b[1;33m\u001b[0m\u001b[0m\n\u001b[1;32m---> 58\u001b[1;33m         \u001b[0mtime\u001b[0m\u001b[1;33m.\u001b[0m\u001b[0msleep\u001b[0m\u001b[1;33m(\u001b[0m\u001b[1;36m3\u001b[0m\u001b[1;33m)\u001b[0m\u001b[1;33m\u001b[0m\u001b[1;33m\u001b[0m\u001b[0m\n\u001b[0m\u001b[0;32m     59\u001b[0m         \u001b[0msearch\u001b[0m \u001b[1;33m=\u001b[0m \u001b[0mdriver\u001b[0m\u001b[1;33m.\u001b[0m\u001b[0mfind_element\u001b[0m\u001b[1;33m(\u001b[0m\u001b[0mBy\u001b[0m\u001b[1;33m.\u001b[0m\u001b[0mXPATH\u001b[0m\u001b[1;33m,\u001b[0m\u001b[1;34m'//*[@id=\"listFrm\"]/div/div[2]/ul/li[1]/a'\u001b[0m\u001b[1;33m)\u001b[0m\u001b[1;33m\u001b[0m\u001b[1;33m\u001b[0m\u001b[0m\n\u001b[0;32m     60\u001b[0m         \u001b[0msearch\u001b[0m\u001b[1;33m.\u001b[0m\u001b[0mclick\u001b[0m\u001b[1;33m(\u001b[0m\u001b[1;33m)\u001b[0m\u001b[1;33m\u001b[0m\u001b[1;33m\u001b[0m\u001b[0m\n",
      "\u001b[1;31mKeyboardInterrupt\u001b[0m: "
     ]
    }
   ],
   "source": [
    "from selenium import webdriver as wd\n",
    "from bs4 import BeautifulSoup\n",
    "from selenium.webdriver.common.by import By\n",
    "import time\n",
    "import pandas as pd\n",
    "from selenium.webdriver.common.keys import Keys\n",
    "import re\n",
    "\n",
    "start = time.time()\n",
    "\n",
    "path = 'C:\\\\Users\\\\admin\\\\Desktop\\\\chromedriver_win32\\\\chromedriver.exe'\n",
    "options = wd.ChromeOptions()\n",
    "options.add_experimental_option('detach',True)\n",
    "driver = wd.Chrome(path, options=options)\n",
    "driver.get('https://www.fips.go.kr/p/S020304/#')\n",
    "time.sleep(3)\n",
    "a = driver.find_element(By.XPATH, '//*[@id=\"fishCodeL\"]/option[3]')\n",
    "a.click()\n",
    "time.sleep(3)\n",
    "b = driver.find_element(By.XPATH,'//*[@id=\"fishCodeM\"]/option[2]')\n",
    "b.click()\n",
    "time.sleep(3)\n",
    "c = driver.find_element(By.XPATH,'//*[@id=\"fishCodeS\"]/option[7]')\n",
    "c.click()\n",
    "year= driver.find_element(By.XPATH, '//*[@id=\"fromDate\"]/option[1]')\n",
    "year.click()\n",
    "time.sleep(3)\n",
    "month = driver.find_element(By.XPATH, '//*[@id=\"fromMm\"]/option[1]')\n",
    "month.click()\n",
    "time.sleep(3)\n",
    "search = driver.find_element(By.XPATH,'//*[@id=\"listFrm\"]/div/div[2]/ul/li[1]/a')\n",
    "search.click()\n",
    "time.sleep(3)\n",
    "catch = []\n",
    "tr = driver.find_elements(By.CSS_SELECTOR,'#contentTable > tbody > tr')\n",
    "for i in tr[:]:\n",
    "    name = i.find_element(By.CSS_SELECTOR,'td:nth-child(3)').get_attribute(\"textContent\")\n",
    "    dead = i.find_element(By.CSS_SELECTOR,'td:nth-child(5)').get_attribute(\"textContent\")\n",
    "    live = i.find_element(By.CSS_SELECTOR,'td:nth-child(6)').get_attribute(\"textContent\")\n",
    "\n",
    "    print(name)\n",
    "    print(dead)\n",
    "    print(live)\n",
    "    total = int(dead)+int(live)\n",
    "    catch.append([name,dead,live,total])\n",
    "time.sleep(3)\n",
    "\n",
    "for i in range(2,10):\n",
    "    year= driver.find_element(By.XPATH, '//*[@id=\"fromDate\"]/option['+str(i)+']')\n",
    "    year.click()\n",
    "    time.sleep(3)\n",
    "    for j in range(1,12):\n",
    "        month = driver.find_element(By.XPATH, '//*[@id=\"fromMm\"]/option['+str(j)+']')\n",
    "        month.click()\n",
    "        time.sleep(3)\n",
    "        search = driver.find_element(By.XPATH,'//*[@id=\"listFrm\"]/div/div[2]/ul/li[1]/a')\n",
    "        search.click()\n",
    "        time.sleep(3)\n",
    "        catch = []\n",
    "        tr = driver.find_elements(By.CSS_SELECTOR,'#contentTable > tbody > tr')\n",
    "        for i in tr[:]:\n",
    "            name = i.find_element(By.XPATH,'//*[@id=\"contentTable\"]/tbody/tr/td[3]').text\n",
    "            dead = i.find_element(By.XPATH,'//*[@id=\"contentTable\"]/tbody/tr/td[5]').text\n",
    "            live = i.find_element(By.XPATH,'//*[@id=\"contentTable\"]/tbody/tr/td[5]').text\n",
    "            print(name)\n",
    "            print(dead)\n",
    "            print(live)\n",
    "            total = int(dead)+int(live)\n",
    "            print(total)\n",
    "            catch.append([name,dead,live,total])\n",
    "df = pd.DataFrame(catch,columns=['이름','선어','활어','총합'])\n",
    "df.to_csv('월별어획량.csv',encoding='utf-8-sig')\n"
   ]
  }
 ],
 "metadata": {
  "kernelspec": {
   "display_name": "base",
   "language": "python",
   "name": "python3"
  },
  "language_info": {
   "codemirror_mode": {
    "name": "ipython",
    "version": 3
   },
   "file_extension": ".py",
   "mimetype": "text/x-python",
   "name": "python",
   "nbconvert_exporter": "python",
   "pygments_lexer": "ipython3",
   "version": "3.9.13"
  },
  "orig_nbformat": 4
 },
 "nbformat": 4,
 "nbformat_minor": 2
}
