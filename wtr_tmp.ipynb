{
 "cells": [
  {
   "cell_type": "code",
   "execution_count": 93,
   "metadata": {},
   "outputs": [],
   "source": [
    "import urllib.request\n",
    "import json\n",
    "import pandas as pd\n",
    "\n",
    "import matplotlib.pyplot as plt"
   ]
  },
  {
   "cell_type": "code",
   "execution_count": 124,
   "metadata": {},
   "outputs": [
    {
     "data": {
      "text/html": [
       "<div>\n",
       "<style scoped>\n",
       "    .dataframe tbody tr th:only-of-type {\n",
       "        vertical-align: middle;\n",
       "    }\n",
       "\n",
       "    .dataframe tbody tr th {\n",
       "        vertical-align: top;\n",
       "    }\n",
       "\n",
       "    .dataframe thead th {\n",
       "        text-align: right;\n",
       "    }\n",
       "</style>\n",
       "<table border=\"1\" class=\"dataframe\">\n",
       "  <thead>\n",
       "    <tr style=\"text-align: right;\">\n",
       "      <th></th>\n",
       "      <th>sta_nam_kor</th>\n",
       "      <th>obs_dat</th>\n",
       "      <th>gru_nam</th>\n",
       "      <th>wtr_tmp</th>\n",
       "    </tr>\n",
       "  </thead>\n",
       "  <tbody>\n",
       "    <tr>\n",
       "      <th>0</th>\n",
       "      <td>홍도</td>\n",
       "      <td>20101231</td>\n",
       "      <td>서해</td>\n",
       "      <td>10.3</td>\n",
       "    </tr>\n",
       "    <tr>\n",
       "      <th>1</th>\n",
       "      <td>호미곶</td>\n",
       "      <td>20101231</td>\n",
       "      <td>동해</td>\n",
       "      <td>None</td>\n",
       "    </tr>\n",
       "    <tr>\n",
       "      <th>2</th>\n",
       "      <td>포항</td>\n",
       "      <td>20101231</td>\n",
       "      <td>동해</td>\n",
       "      <td>7.1</td>\n",
       "    </tr>\n",
       "    <tr>\n",
       "      <th>3</th>\n",
       "      <td>진도</td>\n",
       "      <td>20101231</td>\n",
       "      <td>남해</td>\n",
       "      <td>7.4</td>\n",
       "    </tr>\n",
       "    <tr>\n",
       "      <th>4</th>\n",
       "      <td>죽변</td>\n",
       "      <td>20101231</td>\n",
       "      <td>동해</td>\n",
       "      <td>None</td>\n",
       "    </tr>\n",
       "    <tr>\n",
       "      <th>...</th>\n",
       "      <td>...</td>\n",
       "      <td>...</td>\n",
       "      <td>...</td>\n",
       "      <td>...</td>\n",
       "    </tr>\n",
       "    <tr>\n",
       "      <th>10456</th>\n",
       "      <td>거제</td>\n",
       "      <td>20100101</td>\n",
       "      <td>동해</td>\n",
       "      <td>13</td>\n",
       "    </tr>\n",
       "    <tr>\n",
       "      <th>10457</th>\n",
       "      <td>거문도</td>\n",
       "      <td>20100101</td>\n",
       "      <td>남해</td>\n",
       "      <td>15</td>\n",
       "    </tr>\n",
       "    <tr>\n",
       "      <th>10458</th>\n",
       "      <td>강구</td>\n",
       "      <td>20100101</td>\n",
       "      <td>동해</td>\n",
       "      <td>None</td>\n",
       "    </tr>\n",
       "    <tr>\n",
       "      <th>10459</th>\n",
       "      <td>감포</td>\n",
       "      <td>20100101</td>\n",
       "      <td>동해</td>\n",
       "      <td>14</td>\n",
       "    </tr>\n",
       "    <tr>\n",
       "      <th>10460</th>\n",
       "      <td>가덕도</td>\n",
       "      <td>20100101</td>\n",
       "      <td>남해</td>\n",
       "      <td>13.2</td>\n",
       "    </tr>\n",
       "  </tbody>\n",
       "</table>\n",
       "<p>10461 rows × 4 columns</p>\n",
       "</div>"
      ],
      "text/plain": [
       "      sta_nam_kor   obs_dat gru_nam wtr_tmp\n",
       "0              홍도  20101231      서해    10.3\n",
       "1             호미곶  20101231      동해    None\n",
       "2              포항  20101231      동해     7.1\n",
       "3              진도  20101231      남해     7.4\n",
       "4              죽변  20101231      동해    None\n",
       "...           ...       ...     ...     ...\n",
       "10456          거제  20100101      동해      13\n",
       "10457         거문도  20100101      남해      15\n",
       "10458          강구  20100101      동해    None\n",
       "10459          감포  20100101      동해      14\n",
       "10460         가덕도  20100101      남해    13.2\n",
       "\n",
       "[10461 rows x 4 columns]"
      ]
     },
     "execution_count": 124,
     "metadata": {},
     "output_type": "execute_result"
    }
   ],
   "source": [
    "url1 = 'https://www.nifs.go.kr/OpenAPI_json?id=cooList&key=qPwOeIrU-2303-LJMDFA-0542&sdate=20100101&edate=20101231'\n",
    "\n",
    "respones = urllib.request.urlopen(url1)\n",
    "json_str = respones.read().decode('cp949')\n",
    "\n",
    "json_object = json.loads(json_str)\n",
    "\n",
    "df = pd.json_normalize(json_object['body']['item'])\n",
    "df = df.loc[:,['sta_nam_kor','obs_dat','gru_nam','wtr_tmp']]\n",
    "df\n",
    "\n",
    "# if url.status_code == 200:\n",
    "#     jsonData = url.json()\n",
    "#     print(jsonData)\n",
    "#     # JSON 데이터 파싱 및 처리\n",
    "# else:\n",
    "#     print(\"Error: Failed to get data\")"
   ]
  },
  {
   "cell_type": "code",
   "execution_count": 123,
   "metadata": {},
   "outputs": [
    {
     "data": {
      "text/html": [
       "<div>\n",
       "<style scoped>\n",
       "    .dataframe tbody tr th:only-of-type {\n",
       "        vertical-align: middle;\n",
       "    }\n",
       "\n",
       "    .dataframe tbody tr th {\n",
       "        vertical-align: top;\n",
       "    }\n",
       "\n",
       "    .dataframe thead th {\n",
       "        text-align: right;\n",
       "    }\n",
       "</style>\n",
       "<table border=\"1\" class=\"dataframe\">\n",
       "  <thead>\n",
       "    <tr style=\"text-align: right;\">\n",
       "      <th></th>\n",
       "      <th>sta_nam_kor</th>\n",
       "      <th>obs_dat</th>\n",
       "      <th>gru_nam</th>\n",
       "      <th>wtr_tmp</th>\n",
       "    </tr>\n",
       "  </thead>\n",
       "  <tbody>\n",
       "    <tr>\n",
       "      <th>0</th>\n",
       "      <td>화양</td>\n",
       "      <td>20221230</td>\n",
       "      <td>남해</td>\n",
       "      <td>9.9</td>\n",
       "    </tr>\n",
       "    <tr>\n",
       "      <th>3</th>\n",
       "      <td>화양</td>\n",
       "      <td>20221229</td>\n",
       "      <td>남해</td>\n",
       "      <td>9.7</td>\n",
       "    </tr>\n",
       "    <tr>\n",
       "      <th>21</th>\n",
       "      <td>화양</td>\n",
       "      <td>20221216</td>\n",
       "      <td>남해</td>\n",
       "      <td>10.4</td>\n",
       "    </tr>\n",
       "    <tr>\n",
       "      <th>23</th>\n",
       "      <td>화양</td>\n",
       "      <td>20221215</td>\n",
       "      <td>남해</td>\n",
       "      <td>10.5</td>\n",
       "    </tr>\n",
       "    <tr>\n",
       "      <th>26</th>\n",
       "      <td>화양</td>\n",
       "      <td>20221214</td>\n",
       "      <td>남해</td>\n",
       "      <td>11.4</td>\n",
       "    </tr>\n",
       "    <tr>\n",
       "      <th>...</th>\n",
       "      <td>...</td>\n",
       "      <td>...</td>\n",
       "      <td>...</td>\n",
       "      <td>...</td>\n",
       "    </tr>\n",
       "    <tr>\n",
       "      <th>978</th>\n",
       "      <td>화양</td>\n",
       "      <td>20220107</td>\n",
       "      <td>남해</td>\n",
       "      <td>8.8</td>\n",
       "    </tr>\n",
       "    <tr>\n",
       "      <th>982</th>\n",
       "      <td>화양</td>\n",
       "      <td>20220106</td>\n",
       "      <td>남해</td>\n",
       "      <td>8.8</td>\n",
       "    </tr>\n",
       "    <tr>\n",
       "      <th>986</th>\n",
       "      <td>화양</td>\n",
       "      <td>20220105</td>\n",
       "      <td>남해</td>\n",
       "      <td>8.5</td>\n",
       "    </tr>\n",
       "    <tr>\n",
       "      <th>990</th>\n",
       "      <td>화양</td>\n",
       "      <td>20220104</td>\n",
       "      <td>남해</td>\n",
       "      <td>8.6</td>\n",
       "    </tr>\n",
       "    <tr>\n",
       "      <th>994</th>\n",
       "      <td>화양</td>\n",
       "      <td>20220103</td>\n",
       "      <td>남해</td>\n",
       "      <td>8.2</td>\n",
       "    </tr>\n",
       "  </tbody>\n",
       "</table>\n",
       "<p>208 rows × 4 columns</p>\n",
       "</div>"
      ],
      "text/plain": [
       "    sta_nam_kor   obs_dat gru_nam wtr_tmp\n",
       "0            화양  20221230      남해     9.9\n",
       "3            화양  20221229      남해     9.7\n",
       "21           화양  20221216      남해    10.4\n",
       "23           화양  20221215      남해    10.5\n",
       "26           화양  20221214      남해    11.4\n",
       "..          ...       ...     ...     ...\n",
       "978          화양  20220107      남해     8.8\n",
       "982          화양  20220106      남해     8.8\n",
       "986          화양  20220105      남해     8.5\n",
       "990          화양  20220104      남해     8.6\n",
       "994          화양  20220103      남해     8.2\n",
       "\n",
       "[208 rows x 4 columns]"
      ]
     },
     "execution_count": 123,
     "metadata": {},
     "output_type": "execute_result"
    }
   ],
   "source": [
    "df = df[df['sta_nam_kor']=='화양']\n",
    "df\n"
   ]
  },
  {
   "cell_type": "code",
   "execution_count": 105,
   "metadata": {},
   "outputs": [
    {
     "name": "stderr",
     "output_type": "stream",
     "text": [
      "C:\\Users\\admin\\AppData\\Local\\Temp\\ipykernel_13136\\944364577.py:1: SettingWithCopyWarning: \n",
      "A value is trying to be set on a copy of a slice from a DataFrame.\n",
      "Try using .loc[row_indexer,col_indexer] = value instead\n",
      "\n",
      "See the caveats in the documentation: https://pandas.pydata.org/pandas-docs/stable/user_guide/indexing.html#returning-a-view-versus-a-copy\n",
      "  df['wtr_tmp'] = df['wtr_tmp'].astype('float')\n"
     ]
    }
   ],
   "source": [
    "df['wtr_tmp'] = df['wtr_tmp'].astype('float')"
   ]
  },
  {
   "cell_type": "code",
   "execution_count": 106,
   "metadata": {},
   "outputs": [
    {
     "data": {
      "text/plain": [
       "sta_nam_kor     object\n",
       "obs_dat         object\n",
       "gru_nam         object\n",
       "wtr_tmp        float64\n",
       "dtype: object"
      ]
     },
     "execution_count": 106,
     "metadata": {},
     "output_type": "execute_result"
    }
   ],
   "source": [
    "df.dtypes"
   ]
  },
  {
   "cell_type": "code",
   "execution_count": 107,
   "metadata": {},
   "outputs": [
    {
     "name": "stderr",
     "output_type": "stream",
     "text": [
      "C:\\Users\\admin\\AppData\\Local\\Temp\\ipykernel_13136\\1975454962.py:1: SettingWithCopyWarning: \n",
      "A value is trying to be set on a copy of a slice from a DataFrame.\n",
      "Try using .loc[row_indexer,col_indexer] = value instead\n",
      "\n",
      "See the caveats in the documentation: https://pandas.pydata.org/pandas-docs/stable/user_guide/indexing.html#returning-a-view-versus-a-copy\n",
      "  df['wtr_tmp'] = df['wtr_tmp'].fillna(df['wtr_tmp'].mean())\n"
     ]
    }
   ],
   "source": [
    "df['wtr_tmp'] = df['wtr_tmp'].fillna(df['wtr_tmp'].mean())"
   ]
  },
  {
   "cell_type": "code",
   "execution_count": 108,
   "metadata": {},
   "outputs": [
    {
     "data": {
      "text/plain": [
       "sta_nam_kor    0\n",
       "obs_dat        0\n",
       "gru_nam        0\n",
       "wtr_tmp        0\n",
       "dtype: int64"
      ]
     },
     "execution_count": 108,
     "metadata": {},
     "output_type": "execute_result"
    }
   ],
   "source": [
    "df.isnull().sum()"
   ]
  },
  {
   "cell_type": "code",
   "execution_count": 109,
   "metadata": {},
   "outputs": [],
   "source": [
    "pd.options.display.float_format = '{:.2f}'.format"
   ]
  },
  {
   "cell_type": "code",
   "execution_count": 110,
   "metadata": {},
   "outputs": [],
   "source": [
    "df.to_csv('wtr_tmp.csv')"
   ]
  },
  {
   "cell_type": "code",
   "execution_count": null,
   "metadata": {},
   "outputs": [],
   "source": []
  }
 ],
 "metadata": {
  "kernelspec": {
   "display_name": "base",
   "language": "python",
   "name": "python3"
  },
  "language_info": {
   "codemirror_mode": {
    "name": "ipython",
    "version": 3
   },
   "file_extension": ".py",
   "mimetype": "text/x-python",
   "name": "python",
   "nbconvert_exporter": "python",
   "pygments_lexer": "ipython3",
   "version": "3.9.13"
  },
  "orig_nbformat": 4
 },
 "nbformat": 4,
 "nbformat_minor": 2
}
